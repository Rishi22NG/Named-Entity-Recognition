{
 "cells": [
  {
   "cell_type": "code",
   "execution_count": 2,
   "id": "f3961b1d-e0ef-4803-b144-25e1fe39d71e",
   "metadata": {},
   "outputs": [],
   "source": [
    "import pandas as pd\n",
    "import ast\n"
   ]
  },
  {
   "cell_type": "code",
   "execution_count": 3,
   "id": "3170a283-98c4-44af-b7bc-c5b39734b04d",
   "metadata": {},
   "outputs": [],
   "source": [
    "df=pd.read_csv(\"ner.csv\")"
   ]
  },
  {
   "cell_type": "code",
   "execution_count": 4,
   "id": "dbe1479d-7f9e-48fa-a757-03d708993ed0",
   "metadata": {
    "collapsed": true,
    "jupyter": {
     "outputs_hidden": true
    }
   },
   "outputs": [
    {
     "data": {
      "text/html": [
       "<div>\n",
       "<style scoped>\n",
       "    .dataframe tbody tr th:only-of-type {\n",
       "        vertical-align: middle;\n",
       "    }\n",
       "\n",
       "    .dataframe tbody tr th {\n",
       "        vertical-align: top;\n",
       "    }\n",
       "\n",
       "    .dataframe thead th {\n",
       "        text-align: right;\n",
       "    }\n",
       "</style>\n",
       "<table border=\"1\" class=\"dataframe\">\n",
       "  <thead>\n",
       "    <tr style=\"text-align: right;\">\n",
       "      <th></th>\n",
       "      <th>Sentence #</th>\n",
       "      <th>Sentence</th>\n",
       "      <th>POS</th>\n",
       "      <th>Tag</th>\n",
       "    </tr>\n",
       "  </thead>\n",
       "  <tbody>\n",
       "    <tr>\n",
       "      <th>0</th>\n",
       "      <td>Sentence: 1</td>\n",
       "      <td>Thousands of demonstrators have marched throug...</td>\n",
       "      <td>['NNS', 'IN', 'NNS', 'VBP', 'VBN', 'IN', 'NNP'...</td>\n",
       "      <td>['O', 'O', 'O', 'O', 'O', 'O', 'B-geo', 'O', '...</td>\n",
       "    </tr>\n",
       "    <tr>\n",
       "      <th>1</th>\n",
       "      <td>Sentence: 2</td>\n",
       "      <td>Families of soldiers killed in the conflict jo...</td>\n",
       "      <td>['NNS', 'IN', 'NNS', 'VBN', 'IN', 'DT', 'NN', ...</td>\n",
       "      <td>['O', 'O', 'O', 'O', 'O', 'O', 'O', 'O', 'O', ...</td>\n",
       "    </tr>\n",
       "    <tr>\n",
       "      <th>2</th>\n",
       "      <td>Sentence: 3</td>\n",
       "      <td>They marched from the Houses of Parliament to ...</td>\n",
       "      <td>['PRP', 'VBD', 'IN', 'DT', 'NNS', 'IN', 'NN', ...</td>\n",
       "      <td>['O', 'O', 'O', 'O', 'O', 'O', 'O', 'O', 'O', ...</td>\n",
       "    </tr>\n",
       "    <tr>\n",
       "      <th>3</th>\n",
       "      <td>Sentence: 4</td>\n",
       "      <td>Police put the number of marchers at 10,000 wh...</td>\n",
       "      <td>['NNS', 'VBD', 'DT', 'NN', 'IN', 'NNS', 'IN', ...</td>\n",
       "      <td>['O', 'O', 'O', 'O', 'O', 'O', 'O', 'O', 'O', ...</td>\n",
       "    </tr>\n",
       "    <tr>\n",
       "      <th>4</th>\n",
       "      <td>Sentence: 5</td>\n",
       "      <td>The protest comes on the eve of the annual con...</td>\n",
       "      <td>['DT', 'NN', 'VBZ', 'IN', 'DT', 'NN', 'IN', 'D...</td>\n",
       "      <td>['O', 'O', 'O', 'O', 'O', 'O', 'O', 'O', 'O', ...</td>\n",
       "    </tr>\n",
       "    <tr>\n",
       "      <th>...</th>\n",
       "      <td>...</td>\n",
       "      <td>...</td>\n",
       "      <td>...</td>\n",
       "      <td>...</td>\n",
       "    </tr>\n",
       "    <tr>\n",
       "      <th>47954</th>\n",
       "      <td>Sentence: 47955</td>\n",
       "      <td>Indian border security forces are accusing the...</td>\n",
       "      <td>['JJ', 'NN', 'NN', 'NNS', 'VBP', 'VBG', 'PRP$'...</td>\n",
       "      <td>['B-gpe', 'O', 'O', 'O', 'O', 'O', 'O', 'B-gpe...</td>\n",
       "    </tr>\n",
       "    <tr>\n",
       "      <th>47955</th>\n",
       "      <td>Sentence: 47956</td>\n",
       "      <td>Indian officials said no one was injured in Sa...</td>\n",
       "      <td>['JJ', 'NNS', 'VBD', 'DT', 'NN', 'VBD', 'VBN',...</td>\n",
       "      <td>['B-gpe', 'O', 'O', 'O', 'O', 'O', 'O', 'O', '...</td>\n",
       "    </tr>\n",
       "    <tr>\n",
       "      <th>47956</th>\n",
       "      <td>Sentence: 47957</td>\n",
       "      <td>Two more landed in fields belonging to a nearb...</td>\n",
       "      <td>['CD', 'JJR', 'VBD', 'IN', 'NNS', 'VBG', 'TO',...</td>\n",
       "      <td>['O', 'O', 'O', 'O', 'O', 'O', 'O', 'O', 'O', ...</td>\n",
       "    </tr>\n",
       "    <tr>\n",
       "      <th>47957</th>\n",
       "      <td>Sentence: 47958</td>\n",
       "      <td>They say not all of the rockets exploded upon ...</td>\n",
       "      <td>['PRP', 'VBP', 'RB', 'DT', 'IN', 'DT', 'NNS', ...</td>\n",
       "      <td>['O', 'O', 'O', 'O', 'O', 'O', 'O', 'O', 'O', ...</td>\n",
       "    </tr>\n",
       "    <tr>\n",
       "      <th>47958</th>\n",
       "      <td>Sentence: 47959</td>\n",
       "      <td>Indian forces said they responded to the attack</td>\n",
       "      <td>['JJ', 'NNS', 'VBD', 'PRP', 'VBD', 'TO', 'DT',...</td>\n",
       "      <td>['B-gpe', 'O', 'O', 'O', 'O', 'O', 'O', 'O']</td>\n",
       "    </tr>\n",
       "  </tbody>\n",
       "</table>\n",
       "<p>47959 rows × 4 columns</p>\n",
       "</div>"
      ],
      "text/plain": [
       "            Sentence #                                           Sentence  \\\n",
       "0          Sentence: 1  Thousands of demonstrators have marched throug...   \n",
       "1          Sentence: 2  Families of soldiers killed in the conflict jo...   \n",
       "2          Sentence: 3  They marched from the Houses of Parliament to ...   \n",
       "3          Sentence: 4  Police put the number of marchers at 10,000 wh...   \n",
       "4          Sentence: 5  The protest comes on the eve of the annual con...   \n",
       "...                ...                                                ...   \n",
       "47954  Sentence: 47955  Indian border security forces are accusing the...   \n",
       "47955  Sentence: 47956  Indian officials said no one was injured in Sa...   \n",
       "47956  Sentence: 47957  Two more landed in fields belonging to a nearb...   \n",
       "47957  Sentence: 47958  They say not all of the rockets exploded upon ...   \n",
       "47958  Sentence: 47959    Indian forces said they responded to the attack   \n",
       "\n",
       "                                                     POS  \\\n",
       "0      ['NNS', 'IN', 'NNS', 'VBP', 'VBN', 'IN', 'NNP'...   \n",
       "1      ['NNS', 'IN', 'NNS', 'VBN', 'IN', 'DT', 'NN', ...   \n",
       "2      ['PRP', 'VBD', 'IN', 'DT', 'NNS', 'IN', 'NN', ...   \n",
       "3      ['NNS', 'VBD', 'DT', 'NN', 'IN', 'NNS', 'IN', ...   \n",
       "4      ['DT', 'NN', 'VBZ', 'IN', 'DT', 'NN', 'IN', 'D...   \n",
       "...                                                  ...   \n",
       "47954  ['JJ', 'NN', 'NN', 'NNS', 'VBP', 'VBG', 'PRP$'...   \n",
       "47955  ['JJ', 'NNS', 'VBD', 'DT', 'NN', 'VBD', 'VBN',...   \n",
       "47956  ['CD', 'JJR', 'VBD', 'IN', 'NNS', 'VBG', 'TO',...   \n",
       "47957  ['PRP', 'VBP', 'RB', 'DT', 'IN', 'DT', 'NNS', ...   \n",
       "47958  ['JJ', 'NNS', 'VBD', 'PRP', 'VBD', 'TO', 'DT',...   \n",
       "\n",
       "                                                     Tag  \n",
       "0      ['O', 'O', 'O', 'O', 'O', 'O', 'B-geo', 'O', '...  \n",
       "1      ['O', 'O', 'O', 'O', 'O', 'O', 'O', 'O', 'O', ...  \n",
       "2      ['O', 'O', 'O', 'O', 'O', 'O', 'O', 'O', 'O', ...  \n",
       "3      ['O', 'O', 'O', 'O', 'O', 'O', 'O', 'O', 'O', ...  \n",
       "4      ['O', 'O', 'O', 'O', 'O', 'O', 'O', 'O', 'O', ...  \n",
       "...                                                  ...  \n",
       "47954  ['B-gpe', 'O', 'O', 'O', 'O', 'O', 'O', 'B-gpe...  \n",
       "47955  ['B-gpe', 'O', 'O', 'O', 'O', 'O', 'O', 'O', '...  \n",
       "47956  ['O', 'O', 'O', 'O', 'O', 'O', 'O', 'O', 'O', ...  \n",
       "47957  ['O', 'O', 'O', 'O', 'O', 'O', 'O', 'O', 'O', ...  \n",
       "47958       ['B-gpe', 'O', 'O', 'O', 'O', 'O', 'O', 'O']  \n",
       "\n",
       "[47959 rows x 4 columns]"
      ]
     },
     "execution_count": 4,
     "metadata": {},
     "output_type": "execute_result"
    }
   ],
   "source": [
    "df"
   ]
  },
  {
   "cell_type": "code",
   "execution_count": 5,
   "id": "eaff090b-b438-4bb1-9160-a447f8d57250",
   "metadata": {
    "collapsed": true,
    "jupyter": {
     "outputs_hidden": true
    }
   },
   "outputs": [
    {
     "name": "stdout",
     "output_type": "stream",
     "text": [
      "<class 'pandas.core.frame.DataFrame'>\n",
      "RangeIndex: 47959 entries, 0 to 47958\n",
      "Data columns (total 4 columns):\n",
      " #   Column      Non-Null Count  Dtype \n",
      "---  ------      --------------  ----- \n",
      " 0   Sentence #  47959 non-null  object\n",
      " 1   Sentence    47959 non-null  object\n",
      " 2   POS         47959 non-null  object\n",
      " 3   Tag         47959 non-null  object\n",
      "dtypes: object(4)\n",
      "memory usage: 1.5+ MB\n"
     ]
    }
   ],
   "source": [
    "df.info()"
   ]
  },
  {
   "cell_type": "code",
   "execution_count": 6,
   "id": "40d5f743-10db-4f8a-bb96-a3167f5081b0",
   "metadata": {
    "collapsed": true,
    "jupyter": {
     "outputs_hidden": true
    }
   },
   "outputs": [
    {
     "data": {
      "text/html": [
       "<div>\n",
       "<style scoped>\n",
       "    .dataframe tbody tr th:only-of-type {\n",
       "        vertical-align: middle;\n",
       "    }\n",
       "\n",
       "    .dataframe tbody tr th {\n",
       "        vertical-align: top;\n",
       "    }\n",
       "\n",
       "    .dataframe thead th {\n",
       "        text-align: right;\n",
       "    }\n",
       "</style>\n",
       "<table border=\"1\" class=\"dataframe\">\n",
       "  <thead>\n",
       "    <tr style=\"text-align: right;\">\n",
       "      <th></th>\n",
       "      <th>Sentence #</th>\n",
       "      <th>Sentence</th>\n",
       "      <th>POS</th>\n",
       "      <th>Tag</th>\n",
       "    </tr>\n",
       "  </thead>\n",
       "  <tbody>\n",
       "    <tr>\n",
       "      <th>count</th>\n",
       "      <td>47959</td>\n",
       "      <td>47959</td>\n",
       "      <td>47959</td>\n",
       "      <td>47959</td>\n",
       "    </tr>\n",
       "    <tr>\n",
       "      <th>unique</th>\n",
       "      <td>47959</td>\n",
       "      <td>47575</td>\n",
       "      <td>47214</td>\n",
       "      <td>33318</td>\n",
       "    </tr>\n",
       "    <tr>\n",
       "      <th>top</th>\n",
       "      <td>Sentence: 47959</td>\n",
       "      <td>VOA 's Mil Arcega reports .</td>\n",
       "      <td>['NNP', 'POS', 'NNP', 'NNP', 'VBZ', '.']</td>\n",
       "      <td>['O', 'O', 'O', 'O', 'O', 'O', 'O', 'O', 'O', ...</td>\n",
       "    </tr>\n",
       "    <tr>\n",
       "      <th>freq</th>\n",
       "      <td>1</td>\n",
       "      <td>17</td>\n",
       "      <td>39</td>\n",
       "      <td>450</td>\n",
       "    </tr>\n",
       "  </tbody>\n",
       "</table>\n",
       "</div>"
      ],
      "text/plain": [
       "             Sentence #                     Sentence  \\\n",
       "count             47959                        47959   \n",
       "unique            47959                        47575   \n",
       "top     Sentence: 47959  VOA 's Mil Arcega reports .   \n",
       "freq                  1                           17   \n",
       "\n",
       "                                             POS  \\\n",
       "count                                      47959   \n",
       "unique                                     47214   \n",
       "top     ['NNP', 'POS', 'NNP', 'NNP', 'VBZ', '.']   \n",
       "freq                                          39   \n",
       "\n",
       "                                                      Tag  \n",
       "count                                               47959  \n",
       "unique                                              33318  \n",
       "top     ['O', 'O', 'O', 'O', 'O', 'O', 'O', 'O', 'O', ...  \n",
       "freq                                                  450  "
      ]
     },
     "execution_count": 6,
     "metadata": {},
     "output_type": "execute_result"
    }
   ],
   "source": [
    "df.describe()"
   ]
  },
  {
   "cell_type": "code",
   "execution_count": 7,
   "id": "458aecb7-b85f-4e93-9d18-ea9276e36dc7",
   "metadata": {
    "collapsed": true,
    "jupyter": {
     "outputs_hidden": true
    }
   },
   "outputs": [
    {
     "data": {
      "text/plain": [
       "Sentence #    0\n",
       "Sentence      0\n",
       "POS           0\n",
       "Tag           0\n",
       "dtype: int64"
      ]
     },
     "execution_count": 7,
     "metadata": {},
     "output_type": "execute_result"
    }
   ],
   "source": [
    "df.isnull().sum()"
   ]
  },
  {
   "cell_type": "code",
   "execution_count": 8,
   "id": "4e735966-a969-4a9c-a6c6-0a1ace485f70",
   "metadata": {
    "collapsed": true,
    "jupyter": {
     "outputs_hidden": true
    },
    "scrolled": true
   },
   "outputs": [
    {
     "data": {
      "text/plain": [
       "Sentence #    object\n",
       "Sentence      object\n",
       "POS           object\n",
       "Tag           object\n",
       "dtype: object"
      ]
     },
     "execution_count": 8,
     "metadata": {},
     "output_type": "execute_result"
    }
   ],
   "source": [
    "df.dtypes"
   ]
  },
  {
   "cell_type": "code",
   "execution_count": 9,
   "id": "d0345af2-31a2-4da8-91f3-d7dfb6fae3d6",
   "metadata": {
    "collapsed": true,
    "jupyter": {
     "outputs_hidden": true
    }
   },
   "outputs": [
    {
     "data": {
      "text/plain": [
       "Sentence #    0\n",
       "Sentence      0\n",
       "POS           0\n",
       "Tag           0\n",
       "dtype: int64"
      ]
     },
     "execution_count": 9,
     "metadata": {},
     "output_type": "execute_result"
    }
   ],
   "source": [
    "df.isnull().sum()"
   ]
  },
  {
   "cell_type": "code",
   "execution_count": 10,
   "id": "9b87bdc3-e3ec-4dfe-bd3b-361a7d4047fa",
   "metadata": {},
   "outputs": [],
   "source": [
    "from sklearn.preprocessing import LabelEncoder"
   ]
  },
  {
   "cell_type": "code",
   "execution_count": 11,
   "id": "4884ab4b-d062-4c53-a628-d198cc93b8a0",
   "metadata": {},
   "outputs": [],
   "source": [
    "le=LabelEncoder()"
   ]
  },
  {
   "cell_type": "code",
   "execution_count": 12,
   "id": "ec37bf4b-b27f-43c5-a2ec-9bdff23c092f",
   "metadata": {
    "jupyter": {
     "source_hidden": true
    }
   },
   "outputs": [],
   "source": [
    "df[\"Sentence #\"]=le.fit_transform(df[\"Sentence #\"])\n",
    "df[\"Sentence\"]=le.fit_transform(df[\"Sentence\"])\n",
    "df[\"POS\"]=le.fit_transform(df[\"POS\"])\n",
    "df[\"Tag\"]=le.fit_transform(df[\"Tag\"])\n"
   ]
  },
  {
   "cell_type": "code",
   "execution_count": 13,
   "id": "2d99b119-1bd3-4ad1-a9ea-e065baa1af1a",
   "metadata": {
    "collapsed": true,
    "jupyter": {
     "outputs_hidden": true
    }
   },
   "outputs": [
    {
     "data": {
      "text/html": [
       "<div>\n",
       "<style scoped>\n",
       "    .dataframe tbody tr th:only-of-type {\n",
       "        vertical-align: middle;\n",
       "    }\n",
       "\n",
       "    .dataframe tbody tr th {\n",
       "        vertical-align: top;\n",
       "    }\n",
       "\n",
       "    .dataframe thead th {\n",
       "        text-align: right;\n",
       "    }\n",
       "</style>\n",
       "<table border=\"1\" class=\"dataframe\">\n",
       "  <thead>\n",
       "    <tr style=\"text-align: right;\">\n",
       "      <th></th>\n",
       "      <th>Sentence #</th>\n",
       "      <th>Sentence</th>\n",
       "      <th>POS</th>\n",
       "      <th>Tag</th>\n",
       "    </tr>\n",
       "  </thead>\n",
       "  <tbody>\n",
       "    <tr>\n",
       "      <th>0</th>\n",
       "      <td>0</td>\n",
       "      <td>44256</td>\n",
       "      <td>38630</td>\n",
       "      <td>25890</td>\n",
       "    </tr>\n",
       "    <tr>\n",
       "      <th>1</th>\n",
       "      <td>11111</td>\n",
       "      <td>10252</td>\n",
       "      <td>38590</td>\n",
       "      <td>32686</td>\n",
       "    </tr>\n",
       "    <tr>\n",
       "      <th>2</th>\n",
       "      <td>22222</td>\n",
       "      <td>43624</td>\n",
       "      <td>42509</td>\n",
       "      <td>30553</td>\n",
       "    </tr>\n",
       "    <tr>\n",
       "      <th>3</th>\n",
       "      <td>33333</td>\n",
       "      <td>27020</td>\n",
       "      <td>39052</td>\n",
       "      <td>33303</td>\n",
       "    </tr>\n",
       "    <tr>\n",
       "      <th>4</th>\n",
       "      <td>42404</td>\n",
       "      <td>41180</td>\n",
       "      <td>10100</td>\n",
       "      <td>30596</td>\n",
       "    </tr>\n",
       "    <tr>\n",
       "      <th>...</th>\n",
       "      <td>...</td>\n",
       "      <td>...</td>\n",
       "      <td>...</td>\n",
       "      <td>...</td>\n",
       "    </tr>\n",
       "    <tr>\n",
       "      <th>47954</th>\n",
       "      <td>42173</td>\n",
       "      <td>16326</td>\n",
       "      <td>20883</td>\n",
       "      <td>4147</td>\n",
       "    </tr>\n",
       "    <tr>\n",
       "      <th>47955</th>\n",
       "      <td>42174</td>\n",
       "      <td>16337</td>\n",
       "      <td>22793</td>\n",
       "      <td>4312</td>\n",
       "    </tr>\n",
       "    <tr>\n",
       "      <th>47956</th>\n",
       "      <td>42175</td>\n",
       "      <td>45083</td>\n",
       "      <td>1203</td>\n",
       "      <td>33307</td>\n",
       "    </tr>\n",
       "    <tr>\n",
       "      <th>47957</th>\n",
       "      <td>42176</td>\n",
       "      <td>43758</td>\n",
       "      <td>43784</td>\n",
       "      <td>33307</td>\n",
       "    </tr>\n",
       "    <tr>\n",
       "      <th>47958</th>\n",
       "      <td>42177</td>\n",
       "      <td>16332</td>\n",
       "      <td>22930</td>\n",
       "      <td>5047</td>\n",
       "    </tr>\n",
       "  </tbody>\n",
       "</table>\n",
       "<p>47959 rows × 4 columns</p>\n",
       "</div>"
      ],
      "text/plain": [
       "       Sentence #  Sentence    POS    Tag\n",
       "0               0     44256  38630  25890\n",
       "1           11111     10252  38590  32686\n",
       "2           22222     43624  42509  30553\n",
       "3           33333     27020  39052  33303\n",
       "4           42404     41180  10100  30596\n",
       "...           ...       ...    ...    ...\n",
       "47954       42173     16326  20883   4147\n",
       "47955       42174     16337  22793   4312\n",
       "47956       42175     45083   1203  33307\n",
       "47957       42176     43758  43784  33307\n",
       "47958       42177     16332  22930   5047\n",
       "\n",
       "[47959 rows x 4 columns]"
      ]
     },
     "execution_count": 13,
     "metadata": {},
     "output_type": "execute_result"
    }
   ],
   "source": [
    "df"
   ]
  },
  {
   "cell_type": "code",
   "execution_count": 14,
   "id": "4fa4e4ab-ede4-4ae1-8b59-6c1859827b5b",
   "metadata": {
    "collapsed": true,
    "jupyter": {
     "outputs_hidden": true
    }
   },
   "outputs": [
    {
     "data": {
      "text/plain": [
       "Sentence #    int64\n",
       "Sentence      int64\n",
       "POS           int64\n",
       "Tag           int64\n",
       "dtype: object"
      ]
     },
     "execution_count": 14,
     "metadata": {},
     "output_type": "execute_result"
    }
   ],
   "source": [
    "df.dtypes"
   ]
  },
  {
   "cell_type": "code",
   "execution_count": 15,
   "id": "900522c6-9b28-4615-911b-16dfaebaceba",
   "metadata": {
    "collapsed": true,
    "jupyter": {
     "outputs_hidden": true
    }
   },
   "outputs": [
    {
     "data": {
      "image/png": "[encoded data removed]",
      "text/plain": [
       "<Figure size 640x480 with 1 Axes>"
      ]
     },
     "metadata": {},
     "output_type": "display_data"
    }
   ],
   "source": [
    "import matplotlib.pyplot as plt\n",
    "\n",
    "plt.boxplot(df['Sentence #'])\n",
    "plt.title('Boxplot for Sentence #')\n",
    "plt.show()"
   ]
  },
  {
   "cell_type": "code",
   "execution_count": 16,
   "id": "2b40b601-7848-4726-81d0-60756f8618fc",
   "metadata": {
    "collapsed": true,
    "jupyter": {
     "outputs_hidden": true,
     "source_hidden": true
    }
   },
   "outputs": [
    {
     "name": "stdout",
     "output_type": "stream",
     "text": [
      "Empty DataFrame\n",
      "Columns: [Sentence #, Sentence, POS, Tag]\n",
      "Index: []\n"
     ]
    }
   ],
   "source": [
    "Q1 = df['Sentence #'].quantile(0.25)\n",
    "Q3 = df['Sentence #'].quantile(0.75)\n",
    "IQR = Q3 - Q1\n",
    "\n",
    "outliers = df[(df['Sentence #'] < Q1 - 1.5 * IQR) | (df['Sentence #'] > Q3 + 1.5 * IQR)]\n",
    "print(outliers)"
   ]
  },
  {
   "cell_type": "code",
   "execution_count": 17,
   "id": "903f81d9-a84c-4be6-9f18-24a0105bef1e",
   "metadata": {
    "collapsed": true,
    "jupyter": {
     "outputs_hidden": true
    }
   },
   "outputs": [
    {
     "name": "stdout",
     "output_type": "stream",
     "text": [
      "Empty DataFrame\n",
      "Columns: [Sentence #, Sentence, POS, Tag]\n",
      "Index: []\n"
     ]
    }
   ],
   "source": [
    "Q1 = df['Sentence'].quantile(0.25)\n",
    "Q3 = df['Sentence'].quantile(0.75)\n",
    "IQR = Q3 - Q1\n",
    "\n",
    "outliers = df[(df['Sentence'] < Q1 - 1.5 * IQR) | (df['Sentence'] > Q3 + 1.5 * IQR)]\n",
    "print(outliers)"
   ]
  },
  {
   "cell_type": "code",
   "execution_count": 18,
   "id": "31c7c048-c5c1-4bf0-a005-c1345f245d30",
   "metadata": {
    "collapsed": true,
    "jupyter": {
     "outputs_hidden": true
    }
   },
   "outputs": [
    {
     "name": "stdout",
     "output_type": "stream",
     "text": [
      "Empty DataFrame\n",
      "Columns: [Sentence #, Sentence, POS, Tag]\n",
      "Index: []\n"
     ]
    }
   ],
   "source": [
    "Q1 = df['POS'].quantile(0.25)\n",
    "Q3 = df['POS'].quantile(0.75)\n",
    "IQR = Q3 - Q1\n",
    "\n",
    "outliers = df[(df['POS'] < Q1 - 1.5 * IQR) | (df['POS'] > Q3 + 1.5 * IQR)]\n",
    "print(outliers)"
   ]
  },
  {
   "cell_type": "code",
   "execution_count": 19,
   "id": "854e261b-5b23-4a41-be50-4ac046a33bf6",
   "metadata": {
    "collapsed": true,
    "jupyter": {
     "outputs_hidden": true
    }
   },
   "outputs": [
    {
     "name": "stdout",
     "output_type": "stream",
     "text": [
      "Empty DataFrame\n",
      "Columns: [Sentence #, Sentence, POS, Tag]\n",
      "Index: []\n"
     ]
    }
   ],
   "source": [
    "Q1 = df['Tag'].quantile(0.25)\n",
    "Q3 = df['Tag'].quantile(0.75)\n",
    "IQR = Q3 - Q1\n",
    "\n",
    "outliers = df[(df['Tag'] < Q1 - 1.5 * IQR) | (df['Tag'] > Q3 + 1.5 * IQR)]\n",
    "print(outliers)"
   ]
  },
  {
   "cell_type": "code",
   "execution_count": 20,
   "id": "da8207ed-c412-48c4-83fd-c3a3d98964df",
   "metadata": {},
   "outputs": [],
   "source": [
    "import spacy\n"
   ]
  },
  {
   "cell_type": "code",
   "execution_count": 25,
   "id": "ebc8ee76-bcf6-40ac-b708-030210d7cad8",
   "metadata": {},
   "outputs": [],
   "source": [
    "from spacy.tokens import DocBin"
   ]
  },
  {
   "cell_type": "code",
   "execution_count": 26,
   "id": "5bd33e21-3917-4c19-b80e-e934c2655d37",
   "metadata": {},
   "outputs": [],
   "source": [
    "df = pd.read_csv(\"ner.csv\")\n"
   ]
  },
  {
   "cell_type": "code",
   "execution_count": 28,
   "id": "011288a0-6c2f-4118-9da1-49518a3132dc",
   "metadata": {},
   "outputs": [],
   "source": [
    "sentences = []\n",
    "for sent_id, group in df.groupby(\"Sentence #\"):\n",
    "    tokens = list(group[\"POS\"])\n",
    "    labels = list(group[\"Tag\"])\n",
    "    sentences.append((tokens, labels))\n"
   ]
  },
  {
   "cell_type": "code",
   "execution_count": 29,
   "id": "cddf87be-b550-43af-9646-da516c7ece48",
   "metadata": {},
   "outputs": [],
   "source": [
    "nlp = spacy.blank(\"en\")  # Blank English model\n"
   ]
  },
  {
   "cell_type": "code",
   "execution_count": 30,
   "id": "d683f710-d26b-4877-83da-09a152c56662",
   "metadata": {},
   "outputs": [],
   "source": [
    "ner = nlp.add_pipe(\"ner\")  # Add NER pipeline\n"
   ]
  },
  {
   "cell_type": "code",
   "execution_count": 31,
   "id": "a153635c-0861-42f8-aab6-19b3151758e7",
   "metadata": {},
   "outputs": [],
   "source": [
    "unique_labels = set(df[\"Tag\"].unique()) - {\"O\"}  # Remove 'O' (outside any entity)\n",
    "for label in unique_labels:\n",
    "    ner.add_label(label)"
   ]
  },
  {
   "cell_type": "code",
   "execution_count": 32,
   "id": "89081d95-7297-47bf-98a4-78e5124a52a3",
   "metadata": {},
   "outputs": [],
   "source": [
    "doc_bin = DocBin()\n"
   ]
  },
  {
   "cell_type": "code",
   "execution_count": 33,
   "id": "f05ab71a-f759-4b5b-888e-0f9a0d573d55",
   "metadata": {},
   "outputs": [],
   "source": [
    "for tokens, labels in sentences:\n",
    "    doc = nlp.make_doc(\" \".join(tokens))\n",
    "    ents = []\n",
    "    start = 0\n",
    "    for token, label in zip(tokens, labels):\n",
    "        end = start + len(token)\n",
    "        if label != \"O\":\n",
    "            span = doc.char_span(start, end, label=label)\n",
    "            if span:\n",
    "                ents.append(span)\n",
    "        start = end + 1\n",
    "    doc.ents = ents\n",
    "    doc_bin.add(doc)"
   ]
  },
  {
   "cell_type": "code",
   "execution_count": 34,
   "id": "b798a9f4-8fd4-4d59-a103-154bf7dd2fba",
   "metadata": {},
   "outputs": [],
   "source": [
    "doc_bin.to_disk(\"train.spacy\")\n"
   ]
  },
  {
   "cell_type": "code",
   "execution_count": 35,
   "id": "9ff73ffa-e3ba-46ca-a772-acbeb772c44d",
   "metadata": {},
   "outputs": [],
   "source": [
    "nlp = spacy.load(\"en_core_web_sm\")  # OR nlp = spacy.load(\"./model/model-best\")\n"
   ]
  },
  {
   "cell_type": "code",
   "execution_count": 36,
   "id": "63b670d6-b903-464a-b398-88bd8070b04b",
   "metadata": {},
   "outputs": [],
   "source": [
    "new_text = \"Elon Musk founded SpaceX in 2002 in California.\"\n"
   ]
  },
  {
   "cell_type": "code",
   "execution_count": 37,
   "id": "9f16734c-e520-48f6-bb5d-a526d2c441ea",
   "metadata": {},
   "outputs": [],
   "source": [
    "doc = nlp(new_text)\n"
   ]
  },
  {
   "cell_type": "code",
   "execution_count": 38,
   "id": "e16f5535-62f0-42b3-a980-e5688a2e9758",
   "metadata": {},
   "outputs": [
    {
     "name": "stdout",
     "output_type": "stream",
     "text": [
      "Entities found:\n"
     ]
    }
   ],
   "source": [
    "print(\"Entities found:\")\n"
   ]
  },
  {
   "cell_type": "code",
   "execution_count": 39,
   "id": "db5bdeac-731c-4bce-98aa-cce6c15a7099",
   "metadata": {},
   "outputs": [
    {
     "name": "stdout",
     "output_type": "stream",
     "text": [
      "Elon Musk -> PERSON\n",
      "2002 -> DATE\n",
      "California -> GPE\n"
     ]
    }
   ],
   "source": [
    "for ent in doc.ents:\n",
    "    print(f\"{ent.text} -> {ent.label_}\")\n"
   ]
  },
  {
   "cell_type": "code",
   "execution_count": 42,
   "id": "dd01d30f-6840-47ed-a8c2-076e7e6935d5",
   "metadata": {},
   "outputs": [],
   "source": [
    "nlp = spacy.load(\"en_core_web_sm\")  # or \"./model/model-best\"\n"
   ]
  },
  {
   "cell_type": "code",
   "execution_count": 43,
   "id": "ee138ab3-ae03-4081-bdf0-2c4b0ad75eb6",
   "metadata": {},
   "outputs": [],
   "source": [
    "text = \"Elon Musk founded SpaceX in 2002 and Apple is looking to buy a startup in London.\"\n"
   ]
  },
  {
   "cell_type": "code",
   "execution_count": 44,
   "id": "5f0a0fd5-a08f-4ae9-927c-9fc075078432",
   "metadata": {},
   "outputs": [],
   "source": [
    "doc = nlp(text)\n"
   ]
  },
  {
   "cell_type": "code",
   "execution_count": 45,
   "id": "12c5a67c-b809-46fa-83d0-9fed18065d70",
   "metadata": {},
   "outputs": [
    {
     "name": "stdout",
     "output_type": "stream",
     "text": [
      "Extracted Entities with Labels:\n"
     ]
    }
   ],
   "source": [
    "print(\"Extracted Entities with Labels:\")\n"
   ]
  },
  {
   "cell_type": "code",
   "execution_count": 46,
   "id": "7b587616-b400-4fb6-9b1d-4b89e5458fe4",
   "metadata": {},
   "outputs": [
    {
     "name": "stdout",
     "output_type": "stream",
     "text": [
      "Elon Musk             -->  PERSON\n",
      "2002                  -->  DATE\n",
      "Apple                 -->  ORG\n",
      "London                -->  GPE\n"
     ]
    }
   ],
   "source": [
    "for ent in doc.ents:\n",
    "    print(f\"{ent.text:<20}  -->  {ent.label_}\")\n"
   ]
  },
  {
   "cell_type": "code",
   "execution_count": 47,
   "id": "4f061672-ab34-4196-81c7-3acc011a9d43",
   "metadata": {},
   "outputs": [],
   "source": [
    "from collections import Counter\n"
   ]
  },
  {
   "cell_type": "code",
   "execution_count": 48,
   "id": "26f49d43-6483-4889-a160-53fecedbfba4",
   "metadata": {},
   "outputs": [],
   "source": [
    "entity_labels = [ent.label_ for ent in doc.ents]\n",
    "entity_counts = Counter(entity_labels)"
   ]
  },
  {
   "cell_type": "code",
   "execution_count": 49,
   "id": "3c364afb-49a9-447a-a521-fefe998a92a7",
   "metadata": {},
   "outputs": [
    {
     "name": "stdout",
     "output_type": "stream",
     "text": [
      "Entity Frequency: Counter({'PERSON': 1, 'DATE': 1, 'ORG': 1, 'GPE': 1})\n"
     ]
    }
   ],
   "source": [
    "print(\"Entity Frequency:\", entity_counts)\n"
   ]
  },
  {
   "cell_type": "code",
   "execution_count": 50,
   "id": "c548fa6c-a697-4b97-a988-41ea773e7975",
   "metadata": {},
   "outputs": [],
   "source": [
    "import matplotlib.pyplot as plt\n"
   ]
  },
  {
   "cell_type": "code",
   "execution_count": 51,
   "id": "c1e2000d-3a79-460a-a0bb-2331109e8db2",
   "metadata": {},
   "outputs": [],
   "source": [
    "labels = list(entity_counts.keys())\n",
    "values = list(entity_counts.values())\n"
   ]
  },
  {
   "cell_type": "code",
   "execution_count": 52,
   "id": "dd524646-064c-4fdd-92fc-ed768d64f6b2",
   "metadata": {},
   "outputs": [
    {
     "data": {
      "text/plain": [
       "<BarContainer object of 4 artists>"
      ]
     },
     "execution_count": 52,
     "metadata": {},
     "output_type": "execute_result"
    },
    {
     "data": {
      "image/png": "[encoded data removed]",
      "text/plain": [
       "<Figure size 800x500 with 1 Axes>"
      ]
     },
     "metadata": {},
     "output_type": "display_data"
    }
   ],
   "source": [
    "plt.figure(figsize=(8,5))\n",
    "plt.bar(labels, values, color='skyblue', edgecolor='black')"
   ]
  },
  {
   "cell_type": "code",
   "execution_count": 53,
   "id": "4cdfd5d5-f562-4cd4-ac79-be326dd54934",
   "metadata": {},
   "outputs": [
    {
     "data": {
      "image/png": "[encoded data removed]",
      "text/plain": [
       "<Figure size 640x480 with 1 Axes>"
      ]
     },
     "metadata": {},
     "output_type": "display_data"
    }
   ],
   "source": [
    "plt.title(\"Entity Frequency Distribution\", fontsize=14)\n",
    "plt.xlabel(\"Entity Type\", fontsize=12)\n",
    "plt.ylabel(\"Count\", fontsize=12)\n",
    "plt.grid(axis='y', linestyle='--', alpha=0.7)\n",
    "\n",
    "plt.show()"
   ]
  },
  {
   "cell_type": "code",
   "execution_count": null,
   "id": "41c0ebb0-1c9f-4577-b3ad-6cf679461b89",
   "metadata": {},
   "outputs": [],
   "source": [
    "from spacy import displacy"
   ]
  }
 ],
 "metadata": {
  "kernelspec": {
   "display_name": "Python 3 (ipykernel)",
   "language": "python",
   "name": "python3"
  },
  "language_info": {
   "codemirror_mode": {
    "name": "ipython",
    "version": 3
   },
   "file_extension": ".py",
   "mimetype": "text/x-python",
   "name": "python",
   "nbconvert_exporter": "python",
   "pygments_lexer": "ipython3",
   "version": "3.13.5"
  }
 },
 "nbformat": 4,
 "nbformat_minor": 5
}
